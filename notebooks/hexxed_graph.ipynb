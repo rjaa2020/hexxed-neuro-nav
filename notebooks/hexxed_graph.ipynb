{
 "cells": [
  {
   "cell_type": "markdown",
   "metadata": {},
   "source": [
    "# Graph Environment Experiments (2)\n",
    "\n",
    "Referenced Work: [Momennejad et al., 2017](https://www.nature.com/articles/s41562-017-0180-8)."
   ]
  },
  {
   "cell_type": "code",
   "execution_count": 1,
   "metadata": {},
   "outputs": [],
   "source": [
    "# Uncomment below lines and run this cell to install neuronav and requirements for colab.\n",
    "\n",
    "#!git clone https://github.com/awjuliani/neuro-nav\n",
    "#!pip install ./neuro-nav[experiments_remote]"
   ]
  },
  {
   "cell_type": "code",
   "execution_count": 2,
   "metadata": {},
   "outputs": [],
   "source": [
    "from neuronav.envs.graph_env import GraphEnv, GraphObservation\n",
    "from neuronav.envs.graph_templates import GraphTemplate\n",
    "from neuronav.agents.td_agents import TDSR\n",
    "from neuronav.agents.dyna_agents import DynaSR\n",
    "from neuronav.agents.mb_agents import MBV, SRMB\n",
    "from neuronav.utils import run_episode\n",
    "\n",
    "import numpy as np\n",
    "from neuronav.notebook_helpers import (\n",
    "    plot_graph_experiment_results,\n",
    "    get_scores,\n",
    "    AgentParams,\n",
    "    init_agents,\n",
    "    calc_revaluation,\n",
    ")"
   ]
  },
  {
   "cell_type": "markdown",
   "metadata": {},
   "source": [
    "### Set parameters for experiment"
   ]
  },
  {
   "cell_type": "code",
   "execution_count": 3,
   "metadata": {},
   "outputs": [],
   "source": [
    "num_eps = 100\n",
    "num_steps = 3\n",
    "num_reps = 10\n",
    "\n",
    "agent_dict = {\"TDSR\": TDSR, \"DynaSR\": DynaSR, \"SRMB\": SRMB, \"MBV\": MBV}\n",
    "\n",
    "agent_params = AgentParams(\n",
    "    poltype=\"softmax\",\n",
    "    beta=1e-4,\n",
    "    epsilon=0.1,\n",
    "    learning_rate=1e-1,\n",
    "    gamma=0.9,\n",
    ")"
   ]
  },
  {
   "cell_type": "markdown",
   "metadata": {},
   "source": [
    "### Define experiment-specific functions"
   ]
  },
  {
   "cell_type": "code",
   "execution_count": 4,
   "metadata": {},
   "outputs": [],
   "source": [
    "def gen_init_prefs(env, agents, num_eps, num_steps):\n",
    "    init_state_prefs = []\n",
    "    for agent in agents:\n",
    "        for i in range(num_eps):\n",
    "            agent, _, _ = run_episode(env, agent, num_steps, 0)\n",
    "        Qs = agent.Q[:, 0]\n",
    "        max_Q_idx = np.argmax(Qs)\n",
    "        init_state_prefs.append((agent.__class__.__name__, max_Q_idx, Qs))\n",
    "    return init_state_prefs\n",
    "\n",
    "\n",
    "def control_func(agent_types):\n",
    "    env = GraphEnv(GraphTemplate.hexxed, obs_type=GraphObservation.index)\n",
    "    agents = init_agents(env, agent_types, agent_params)\n",
    "    env.reset()\n",
    "    env.render()\n",
    "    init_state_prefs = gen_init_prefs(env, agents, num_eps, num_steps)\n",
    "    control_state_prefs = gen_init_prefs(env, agents, num_eps, num_steps)\n",
    "    return calc_revaluation(init_state_prefs, control_state_prefs)\n",
    "\n",
    "\n",
    "def reward_func(agent_types):\n",
    "    env = GraphEnv(GraphTemplate.hexxed, obs_type=GraphObservation.index)\n",
    "    agents = init_agents(env, agent_types, agent_params)\n",
    "    init_state_prefs = gen_init_prefs(env, agents, num_eps, num_steps)\n",
    "\n",
    "    env.template_objects[\"rewards\"][3] = 45\n",
    "    env.template_objects[\"rewards\"][4] = 0\n",
    "    env.template_objects[\"rewards\"][5] = 30\n",
    "    env.reset()\n",
    "    env.render()\n",
    "\n",
    "    rew_state_prefs = []\n",
    "    for agent in agents:\n",
    "        for i in range(num_eps):\n",
    "            start_state = np.random.randint(3, 6)\n",
    "            agent, _, _ = run_episode(env, agent, num_steps, start_state)\n",
    "        Qs = agent.Q[:, 0]\n",
    "        max_Q_idx = np.argmax(Qs)\n",
    "        rew_state_prefs.append((agent.__class__.__name__, max_Q_idx, Qs))\n",
    "    return calc_revaluation(init_state_prefs, rew_state_prefs)\n",
    "\n",
    "\n",
    "def transition_func(agent_types):\n",
    "    env = GraphEnv(GraphTemplate.hexxed, obs_type=GraphObservation.index)\n",
    "    agents = init_agents(env, agent_types, agent_params)\n",
    "    init_state_prefs = gen_init_prefs(env, agents, num_eps, num_steps)\n",
    "\n",
    "    env.edges[1] = [4, 5]\n",
    "    env.edges[2] = [3, 4]\n",
    "\n",
    "    env.reset()\n",
    "    env.render()\n",
    "\n",
    "    trans_state_prefs = []\n",
    "    for agent in agents:\n",
    "        for i in range(num_eps):\n",
    "            start_state = np.random.randint(1, 3)\n",
    "            agent, _, _ = run_episode(env, agent, num_steps, start_state)\n",
    "        Qs = agent.Q[:, 0]\n",
    "        max_Q_idx = np.argmax(Qs)\n",
    "        trans_state_prefs.append((agent.__class__.__name__, max_Q_idx, Qs))\n",
    "\n",
    "    return calc_revaluation(init_state_prefs, trans_state_prefs)\n",
    "\n",
    "\n",
    "def policy_func(agent_types):\n",
    "    env = GraphEnv(GraphTemplate.hexxed, obs_type=GraphObservation.index)\n",
    "    env.template_objects[\"rewards\"][3] = 0\n",
    "    env.template_objects[\"rewards\"][4] = 15\n",
    "    env.template_objects[\"rewards\"][5] = 30\n",
    "\n",
    "    agents = init_agents(env, agent_types, agent_params)\n",
    "    init_state_prefs = gen_init_prefs(env, agents, num_eps, num_steps)\n",
    "\n",
    "    env.template_objects[\"rewards\"][3] = 45\n",
    "    env.template_objects[\"rewards\"][4] = 15\n",
    "    env.template_objects[\"rewards\"][5] = 30\n",
    "\n",
    "    env.reset()\n",
    "    env.render()\n",
    "\n",
    "    policy_state_prefs = []\n",
    "    for agent in agents:\n",
    "        for i in range(num_eps):\n",
    "            start_state = np.random.randint(3, 6)\n",
    "            agent, _, _ = run_episode(env, agent, num_steps, start_state)\n",
    "        Qs = agent.Q[:, 0]\n",
    "        max_Q_idx = np.argmax(Qs)\n",
    "        policy_state_prefs.append((agent.__class__.__name__, max_Q_idx, Qs))\n",
    "    return calc_revaluation(init_state_prefs, policy_state_prefs)"
   ]
  },
  {
   "cell_type": "markdown",
   "metadata": {},
   "source": [
    "### Run experimental conditions"
   ]
  },
  {
   "cell_type": "code",
   "execution_count": 5,
   "metadata": {},
   "outputs": [
    {
     "ename": "IndexError",
     "evalue": "list index out of range",
     "output_type": "error",
     "traceback": [
      "\u001B[1;31m---------------------------------------------------------------------------\u001B[0m",
      "\u001B[1;31mIndexError\u001B[0m                                Traceback (most recent call last)",
      "\u001B[1;32m~\\AppData\\Local\\Temp\\ipykernel_20560\\2454998647.py\u001B[0m in \u001B[0;36m<cell line: 2>\u001B[1;34m()\u001B[0m\n\u001B[0;32m      1\u001B[0m \u001B[1;31m# Control Condition\u001B[0m\u001B[1;33m\u001B[0m\u001B[1;33m\u001B[0m\u001B[0m\n\u001B[1;32m----> 2\u001B[1;33m \u001B[0mall_cs\u001B[0m \u001B[1;33m=\u001B[0m \u001B[0mget_scores\u001B[0m\u001B[1;33m(\u001B[0m\u001B[0mcontrol_func\u001B[0m\u001B[1;33m,\u001B[0m \u001B[0magent_dict\u001B[0m\u001B[1;33m,\u001B[0m \u001B[0mnum_reps\u001B[0m\u001B[1;33m)\u001B[0m\u001B[1;33m\u001B[0m\u001B[1;33m\u001B[0m\u001B[0m\n\u001B[0m",
      "\u001B[1;32m~\\Documents\\Hexxed\\hexxed-neuro-nav\\neuronav\\notebook_helpers.py\u001B[0m in \u001B[0;36mget_scores\u001B[1;34m(condition_func, agent_dict, num_reps, plot)\u001B[0m\n\u001B[0;32m     67\u001B[0m     \u001B[0mall_scores\u001B[0m \u001B[1;33m=\u001B[0m \u001B[1;33m[\u001B[0m\u001B[1;33m]\u001B[0m\u001B[1;33m\u001B[0m\u001B[1;33m\u001B[0m\u001B[0m\n\u001B[0;32m     68\u001B[0m     \u001B[1;32mfor\u001B[0m \u001B[0m_\u001B[0m \u001B[1;32min\u001B[0m \u001B[0mrange\u001B[0m\u001B[1;33m(\u001B[0m\u001B[0mnum_reps\u001B[0m\u001B[1;33m)\u001B[0m\u001B[1;33m:\u001B[0m\u001B[1;33m\u001B[0m\u001B[1;33m\u001B[0m\u001B[0m\n\u001B[1;32m---> 69\u001B[1;33m         \u001B[0mall_scores\u001B[0m\u001B[1;33m.\u001B[0m\u001B[0mappend\u001B[0m\u001B[1;33m(\u001B[0m\u001B[0mcondition_func\u001B[0m\u001B[1;33m(\u001B[0m\u001B[0magent_dict\u001B[0m\u001B[1;33m.\u001B[0m\u001B[0mvalues\u001B[0m\u001B[1;33m(\u001B[0m\u001B[1;33m)\u001B[0m\u001B[1;33m)\u001B[0m\u001B[1;33m)\u001B[0m\u001B[1;33m\u001B[0m\u001B[1;33m\u001B[0m\u001B[0m\n\u001B[0m\u001B[0;32m     70\u001B[0m     \u001B[0mall_scores\u001B[0m \u001B[1;33m=\u001B[0m \u001B[0mnp\u001B[0m\u001B[1;33m.\u001B[0m\u001B[0marray\u001B[0m\u001B[1;33m(\u001B[0m\u001B[0mall_scores\u001B[0m\u001B[1;33m)\u001B[0m\u001B[1;33m\u001B[0m\u001B[1;33m\u001B[0m\u001B[0m\n\u001B[0;32m     71\u001B[0m     \u001B[1;32mif\u001B[0m \u001B[0mplot\u001B[0m\u001B[1;33m:\u001B[0m\u001B[1;33m\u001B[0m\u001B[1;33m\u001B[0m\u001B[0m\n",
      "\u001B[1;32m~\\AppData\\Local\\Temp\\ipykernel_20560\\2648057030.py\u001B[0m in \u001B[0;36mcontrol_func\u001B[1;34m(agent_types)\u001B[0m\n\u001B[0;32m     15\u001B[0m     \u001B[0menv\u001B[0m\u001B[1;33m.\u001B[0m\u001B[0mreset\u001B[0m\u001B[1;33m(\u001B[0m\u001B[1;33m)\u001B[0m\u001B[1;33m\u001B[0m\u001B[1;33m\u001B[0m\u001B[0m\n\u001B[0;32m     16\u001B[0m     \u001B[0menv\u001B[0m\u001B[1;33m.\u001B[0m\u001B[0mrender\u001B[0m\u001B[1;33m(\u001B[0m\u001B[1;33m)\u001B[0m\u001B[1;33m\u001B[0m\u001B[1;33m\u001B[0m\u001B[0m\n\u001B[1;32m---> 17\u001B[1;33m     \u001B[0minit_state_prefs\u001B[0m \u001B[1;33m=\u001B[0m \u001B[0mgen_init_prefs\u001B[0m\u001B[1;33m(\u001B[0m\u001B[0menv\u001B[0m\u001B[1;33m,\u001B[0m \u001B[0magents\u001B[0m\u001B[1;33m,\u001B[0m \u001B[0mnum_eps\u001B[0m\u001B[1;33m,\u001B[0m \u001B[0mnum_steps\u001B[0m\u001B[1;33m)\u001B[0m\u001B[1;33m\u001B[0m\u001B[1;33m\u001B[0m\u001B[0m\n\u001B[0m\u001B[0;32m     18\u001B[0m     \u001B[0mcontrol_state_prefs\u001B[0m \u001B[1;33m=\u001B[0m \u001B[0mgen_init_prefs\u001B[0m\u001B[1;33m(\u001B[0m\u001B[0menv\u001B[0m\u001B[1;33m,\u001B[0m \u001B[0magents\u001B[0m\u001B[1;33m,\u001B[0m \u001B[0mnum_eps\u001B[0m\u001B[1;33m,\u001B[0m \u001B[0mnum_steps\u001B[0m\u001B[1;33m)\u001B[0m\u001B[1;33m\u001B[0m\u001B[1;33m\u001B[0m\u001B[0m\n\u001B[0;32m     19\u001B[0m     \u001B[1;32mreturn\u001B[0m \u001B[0mcalc_revaluation\u001B[0m\u001B[1;33m(\u001B[0m\u001B[0minit_state_prefs\u001B[0m\u001B[1;33m,\u001B[0m \u001B[0mcontrol_state_prefs\u001B[0m\u001B[1;33m)\u001B[0m\u001B[1;33m\u001B[0m\u001B[1;33m\u001B[0m\u001B[0m\n",
      "\u001B[1;32m~\\AppData\\Local\\Temp\\ipykernel_20560\\2648057030.py\u001B[0m in \u001B[0;36mgen_init_prefs\u001B[1;34m(env, agents, num_eps, num_steps)\u001B[0m\n\u001B[0;32m      3\u001B[0m     \u001B[1;32mfor\u001B[0m \u001B[0magent\u001B[0m \u001B[1;32min\u001B[0m \u001B[0magents\u001B[0m\u001B[1;33m:\u001B[0m\u001B[1;33m\u001B[0m\u001B[1;33m\u001B[0m\u001B[0m\n\u001B[0;32m      4\u001B[0m         \u001B[1;32mfor\u001B[0m \u001B[0mi\u001B[0m \u001B[1;32min\u001B[0m \u001B[0mrange\u001B[0m\u001B[1;33m(\u001B[0m\u001B[0mnum_eps\u001B[0m\u001B[1;33m)\u001B[0m\u001B[1;33m:\u001B[0m\u001B[1;33m\u001B[0m\u001B[1;33m\u001B[0m\u001B[0m\n\u001B[1;32m----> 5\u001B[1;33m             \u001B[0magent\u001B[0m\u001B[1;33m,\u001B[0m \u001B[0m_\u001B[0m\u001B[1;33m,\u001B[0m \u001B[0m_\u001B[0m \u001B[1;33m=\u001B[0m \u001B[0mrun_episode\u001B[0m\u001B[1;33m(\u001B[0m\u001B[0menv\u001B[0m\u001B[1;33m,\u001B[0m \u001B[0magent\u001B[0m\u001B[1;33m,\u001B[0m \u001B[0mnum_steps\u001B[0m\u001B[1;33m,\u001B[0m \u001B[1;36m0\u001B[0m\u001B[1;33m)\u001B[0m\u001B[1;33m\u001B[0m\u001B[1;33m\u001B[0m\u001B[0m\n\u001B[0m\u001B[0;32m      6\u001B[0m         \u001B[0mQs\u001B[0m \u001B[1;33m=\u001B[0m \u001B[0magent\u001B[0m\u001B[1;33m.\u001B[0m\u001B[0mQ\u001B[0m\u001B[1;33m[\u001B[0m\u001B[1;33m:\u001B[0m\u001B[1;33m,\u001B[0m \u001B[1;36m0\u001B[0m\u001B[1;33m]\u001B[0m\u001B[1;33m\u001B[0m\u001B[1;33m\u001B[0m\u001B[0m\n\u001B[0;32m      7\u001B[0m         \u001B[0mmax_Q_idx\u001B[0m \u001B[1;33m=\u001B[0m \u001B[0mnp\u001B[0m\u001B[1;33m.\u001B[0m\u001B[0margmax\u001B[0m\u001B[1;33m(\u001B[0m\u001B[0mQs\u001B[0m\u001B[1;33m)\u001B[0m\u001B[1;33m\u001B[0m\u001B[1;33m\u001B[0m\u001B[0m\n",
      "\u001B[1;32m~\\Documents\\Hexxed\\hexxed-neuro-nav\\neuronav\\utils.py\u001B[0m in \u001B[0;36mrun_episode\u001B[1;34m(env, agent, max_steps, start_pos, objects, random_start, update_agent, time_penalty, collect_states)\u001B[0m\n\u001B[0;32m     39\u001B[0m     \u001B[1;32mwhile\u001B[0m \u001B[1;32mnot\u001B[0m \u001B[0mdone\u001B[0m \u001B[1;32mand\u001B[0m \u001B[0msteps\u001B[0m \u001B[1;33m<\u001B[0m \u001B[0mmax_steps\u001B[0m\u001B[1;33m:\u001B[0m\u001B[1;33m\u001B[0m\u001B[1;33m\u001B[0m\u001B[0m\n\u001B[0;32m     40\u001B[0m         \u001B[0mact\u001B[0m \u001B[1;33m=\u001B[0m \u001B[0magent\u001B[0m\u001B[1;33m.\u001B[0m\u001B[0msample_action\u001B[0m\u001B[1;33m(\u001B[0m\u001B[0mobs\u001B[0m\u001B[1;33m)\u001B[0m\u001B[1;33m\u001B[0m\u001B[1;33m\u001B[0m\u001B[0m\n\u001B[1;32m---> 41\u001B[1;33m         \u001B[0mobs_new\u001B[0m\u001B[1;33m,\u001B[0m \u001B[0mreward\u001B[0m\u001B[1;33m,\u001B[0m \u001B[0mdone\u001B[0m\u001B[1;33m,\u001B[0m \u001B[0m_\u001B[0m \u001B[1;33m=\u001B[0m \u001B[0menv\u001B[0m\u001B[1;33m.\u001B[0m\u001B[0mstep\u001B[0m\u001B[1;33m(\u001B[0m\u001B[0mact\u001B[0m\u001B[1;33m)\u001B[0m\u001B[1;33m\u001B[0m\u001B[1;33m\u001B[0m\u001B[0m\n\u001B[0m\u001B[0;32m     42\u001B[0m         \u001B[1;32mif\u001B[0m \u001B[0mupdate_agent\u001B[0m\u001B[1;33m:\u001B[0m\u001B[1;33m\u001B[0m\u001B[1;33m\u001B[0m\u001B[0m\n\u001B[0;32m     43\u001B[0m             \u001B[0m_\u001B[0m \u001B[1;33m=\u001B[0m \u001B[0magent\u001B[0m\u001B[1;33m.\u001B[0m\u001B[0mupdate\u001B[0m\u001B[1;33m(\u001B[0m\u001B[1;33m[\u001B[0m\u001B[0mobs\u001B[0m\u001B[1;33m,\u001B[0m \u001B[0mact\u001B[0m\u001B[1;33m,\u001B[0m \u001B[0mobs_new\u001B[0m\u001B[1;33m,\u001B[0m \u001B[0mreward\u001B[0m\u001B[1;33m,\u001B[0m \u001B[0mdone\u001B[0m\u001B[1;33m]\u001B[0m\u001B[1;33m)\u001B[0m\u001B[1;33m\u001B[0m\u001B[1;33m\u001B[0m\u001B[0m\n",
      "\u001B[1;32m~\\Documents\\Hexxed\\hexxed-neuro-nav\\neuronav\\envs\\graph_env.py\u001B[0m in \u001B[0;36mstep\u001B[1;34m(self, action)\u001B[0m\n\u001B[0;32m    188\u001B[0m                 \u001B[0maction\u001B[0m \u001B[1;33m=\u001B[0m \u001B[0mself\u001B[0m\u001B[1;33m.\u001B[0m\u001B[0mrng\u001B[0m\u001B[1;33m.\u001B[0m\u001B[0mrandint\u001B[0m\u001B[1;33m(\u001B[0m\u001B[1;36m0\u001B[0m\u001B[1;33m,\u001B[0m \u001B[0mlen\u001B[0m\u001B[1;33m(\u001B[0m\u001B[0mself\u001B[0m\u001B[1;33m.\u001B[0m\u001B[0medges\u001B[0m\u001B[1;33m[\u001B[0m\u001B[0mself\u001B[0m\u001B[1;33m.\u001B[0m\u001B[0magent_pos\u001B[0m\u001B[1;33m]\u001B[0m\u001B[1;33m)\u001B[0m\u001B[1;33m)\u001B[0m\u001B[1;33m\u001B[0m\u001B[1;33m\u001B[0m\u001B[0m\n\u001B[0;32m    189\u001B[0m \u001B[1;33m\u001B[0m\u001B[0m\n\u001B[1;32m--> 190\u001B[1;33m             \u001B[0mcandidate_positions\u001B[0m \u001B[1;33m=\u001B[0m \u001B[0mself\u001B[0m\u001B[1;33m.\u001B[0m\u001B[0medges\u001B[0m\u001B[1;33m[\u001B[0m\u001B[0mself\u001B[0m\u001B[1;33m.\u001B[0m\u001B[0magent_pos\u001B[0m\u001B[1;33m]\u001B[0m\u001B[1;33m[\u001B[0m\u001B[0maction\u001B[0m\u001B[1;33m]\u001B[0m\u001B[1;33m\u001B[0m\u001B[1;33m\u001B[0m\u001B[0m\n\u001B[0m\u001B[0;32m    191\u001B[0m \u001B[1;33m\u001B[0m\u001B[0m\n\u001B[0;32m    192\u001B[0m             \u001B[1;31m# Choose candidate position based on probability distribution\u001B[0m\u001B[1;33m\u001B[0m\u001B[1;33m\u001B[0m\u001B[0m\n",
      "\u001B[1;31mIndexError\u001B[0m: list index out of range"
     ]
    },
    {
     "data": {
      "text/plain": "<Figure size 432x288 with 1 Axes>",
      "image/png": "[encoded data removed]"
     },
     "metadata": {},
     "output_type": "display_data"
    }
   ],
   "source": [
    "# Control Condition\n",
    "all_cs = get_scores(control_func, agent_dict, num_reps)"
   ]
  },
  {
   "cell_type": "code",
   "execution_count": null,
   "metadata": {},
   "outputs": [],
   "source": [
    "# Reward revaluation condition\n",
    "all_rs = get_scores(reward_func, agent_dict, num_reps)"
   ]
  },
  {
   "cell_type": "code",
   "execution_count": null,
   "metadata": {},
   "outputs": [],
   "source": [
    "# Transition revaluation condition\n",
    "all_ts = get_scores(transition_func, agent_dict, num_reps)"
   ]
  },
  {
   "cell_type": "code",
   "execution_count": null,
   "metadata": {},
   "outputs": [],
   "source": [
    "# Policy revaluation condition\n",
    "all_ps = get_scores(policy_func, agent_dict, num_reps)"
   ]
  },
  {
   "cell_type": "markdown",
   "metadata": {},
   "source": [
    "### Plot results"
   ]
  },
  {
   "cell_type": "code",
   "execution_count": null,
   "metadata": {},
   "outputs": [],
   "source": [
    "result_dict = {\n",
    "    \"Control\": all_cs,\n",
    "    \"Reward\": all_rs,\n",
    "    \"Transition\": all_ts,\n",
    "    \"Policy\": all_ps,\n",
    "}\n",
    "plot_graph_experiment_results(list(agent_dict.keys()), result_dict, \"experiment_2\")"
   ]
  }
 ],
 "metadata": {
  "kernelspec": {
   "display_name": "base",
   "language": "python",
   "name": "python3"
  },
  "language_info": {
   "codemirror_mode": {
    "name": "ipython",
    "version": 3
   },
   "file_extension": ".py",
   "mimetype": "text/x-python",
   "name": "python",
   "nbconvert_exporter": "python",
   "pygments_lexer": "ipython3",
   "version": "3.9.12"
  },
  "orig_nbformat": 4,
  "vscode": {
   "interpreter": {
    "hash": "d4416b23800dac0499c77199e6a61cce292c2d7a147d61370d8d704e5424b5c2"
   }
  }
 },
 "nbformat": 4,
 "nbformat_minor": 2
}
